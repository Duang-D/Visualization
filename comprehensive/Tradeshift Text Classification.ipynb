{
 "cells": [
  {
   "cell_type": "markdown",
   "metadata": {},
   "source": [
    "### Big Data -- Sample Data!"
   ]
  },
  {
   "cell_type": "code",
   "execution_count": 2,
   "metadata": {
    "collapsed": false
   },
   "outputs": [],
   "source": [
    "from sklearn.feature_extraction import DictVectorizer\n",
    "import pandas as pd\n",
    "import numpy as np"
   ]
  },
  {
   "cell_type": "code",
   "execution_count": 3,
   "metadata": {
    "collapsed": false
   },
   "outputs": [],
   "source": [
    "train_sample = pd.read_csv('/home/vincent/Desktop/datasets/' + 'test.csv', nrows=1000)\n",
    "labels = pd.read_csv('/home/vincent/Desktop/datasets/' + 'trainLabels.csv', nrows=1000)"
   ]
  },
  {
   "cell_type": "code",
   "execution_count": 4,
   "metadata": {
    "collapsed": false
   },
   "outputs": [
    {
     "data": {
      "text/html": [
       "<div>\n",
       "<table border=\"1\" class=\"dataframe\">\n",
       "  <thead>\n",
       "    <tr style=\"text-align: right;\">\n",
       "      <th></th>\n",
       "      <th>id</th>\n",
       "      <th>x1</th>\n",
       "      <th>x2</th>\n",
       "      <th>x3</th>\n",
       "      <th>x4</th>\n",
       "      <th>x5</th>\n",
       "      <th>x6</th>\n",
       "      <th>x7</th>\n",
       "      <th>x8</th>\n",
       "      <th>x9</th>\n",
       "      <th>...</th>\n",
       "      <th>x136</th>\n",
       "      <th>x137</th>\n",
       "      <th>x138</th>\n",
       "      <th>x139</th>\n",
       "      <th>x140</th>\n",
       "      <th>x141</th>\n",
       "      <th>x142</th>\n",
       "      <th>x143</th>\n",
       "      <th>x144</th>\n",
       "      <th>x145</th>\n",
       "    </tr>\n",
       "  </thead>\n",
       "  <tbody>\n",
       "    <tr>\n",
       "      <th>0</th>\n",
       "      <td>1700001</td>\n",
       "      <td>YES</td>\n",
       "      <td>NO</td>\n",
       "      <td>I7K7j9mvUurktDbybGa8nYojS5TrOrQqvAandHsdjv8=</td>\n",
       "      <td>YGCdISifn4fLao/ASKdZFhGIq23oqzfSbUVb6px1pig=</td>\n",
       "      <td>0.653698</td>\n",
       "      <td>0.041684</td>\n",
       "      <td>0.940573</td>\n",
       "      <td>0.090851</td>\n",
       "      <td>0.873563</td>\n",
       "      <td>...</td>\n",
       "      <td>0.000000</td>\n",
       "      <td>0.98</td>\n",
       "      <td>3306</td>\n",
       "      <td>4678</td>\n",
       "      <td>NO</td>\n",
       "      <td>NO</td>\n",
       "      <td>YES</td>\n",
       "      <td>3</td>\n",
       "      <td>0.168448</td>\n",
       "      <td>0.863581</td>\n",
       "    </tr>\n",
       "    <tr>\n",
       "      <th>1</th>\n",
       "      <td>1700002</td>\n",
       "      <td>NO</td>\n",
       "      <td>NO</td>\n",
       "      <td>cSuQaz0xx+UxAtskjMBN1xCeacDm/4oJYEIDFL3CMoU=</td>\n",
       "      <td>vOPAlFJxrZoxaQht2ylUA2U0jUyFGxJF7iy/SNua2+U=</td>\n",
       "      <td>1.294118</td>\n",
       "      <td>0.000000</td>\n",
       "      <td>1.000000</td>\n",
       "      <td>0.000000</td>\n",
       "      <td>0.468855</td>\n",
       "      <td>...</td>\n",
       "      <td>-0.666667</td>\n",
       "      <td>1.00</td>\n",
       "      <td>1188</td>\n",
       "      <td>918</td>\n",
       "      <td>YES</td>\n",
       "      <td>NO</td>\n",
       "      <td>YES</td>\n",
       "      <td>1</td>\n",
       "      <td>0.694989</td>\n",
       "      <td>0.468855</td>\n",
       "    </tr>\n",
       "    <tr>\n",
       "      <th>2</th>\n",
       "      <td>1700003</td>\n",
       "      <td>NO</td>\n",
       "      <td>NO</td>\n",
       "      <td>VduR3ZHc2+rs/i34uA1VtOPTyOogJacJNc3mBuRRjIU=</td>\n",
       "      <td>ZSznNzP7c1xuAbA4HWA+NnJ4UXhlkZckpXtvQW/EJPw=</td>\n",
       "      <td>0.457076</td>\n",
       "      <td>0.318488</td>\n",
       "      <td>0.360094</td>\n",
       "      <td>0.444477</td>\n",
       "      <td>0.354545</td>\n",
       "      <td>...</td>\n",
       "      <td>0.000000</td>\n",
       "      <td>0.97</td>\n",
       "      <td>4400</td>\n",
       "      <td>3413</td>\n",
       "      <td>YES</td>\n",
       "      <td>NO</td>\n",
       "      <td>YES</td>\n",
       "      <td>0</td>\n",
       "      <td>0.326106</td>\n",
       "      <td>0.345455</td>\n",
       "    </tr>\n",
       "    <tr>\n",
       "      <th>3</th>\n",
       "      <td>1700004</td>\n",
       "      <td>NO</td>\n",
       "      <td>NO</td>\n",
       "      <td>S7l8SI3WbSTbhCSCcNJBWCtNjh8fSqS3ZhPZ3X+EGGU=</td>\n",
       "      <td>aZTF/lredyP4cukeN8bh6kpBjYmS1QFNpPOg2LVm3Lg=</td>\n",
       "      <td>1.085878</td>\n",
       "      <td>0.874811</td>\n",
       "      <td>0.939825</td>\n",
       "      <td>1.054732</td>\n",
       "      <td>0.767586</td>\n",
       "      <td>...</td>\n",
       "      <td>0.000000</td>\n",
       "      <td>0.87</td>\n",
       "      <td>4677</td>\n",
       "      <td>3307</td>\n",
       "      <td>YES</td>\n",
       "      <td>NO</td>\n",
       "      <td>YES</td>\n",
       "      <td>1</td>\n",
       "      <td>0.750832</td>\n",
       "      <td>0.760316</td>\n",
       "    </tr>\n",
       "    <tr>\n",
       "      <th>4</th>\n",
       "      <td>1700005</td>\n",
       "      <td>NO</td>\n",
       "      <td>NO</td>\n",
       "      <td>YKBNeCS2s8QQz1xy7Aes8Ina4f27Q022R7ggwOX58l0=</td>\n",
       "      <td>6E1RoTs+Er+giZsKw158lVBRFEjPAoSaWCcPwdXuk6k=</td>\n",
       "      <td>1.414798</td>\n",
       "      <td>0.000000</td>\n",
       "      <td>1.000000</td>\n",
       "      <td>0.000000</td>\n",
       "      <td>0.348653</td>\n",
       "      <td>...</td>\n",
       "      <td>-1.000000</td>\n",
       "      <td>1.00</td>\n",
       "      <td>1262</td>\n",
       "      <td>892</td>\n",
       "      <td>NO</td>\n",
       "      <td>NO</td>\n",
       "      <td>NO</td>\n",
       "      <td>10</td>\n",
       "      <td>0.580717</td>\n",
       "      <td>0.337559</td>\n",
       "    </tr>\n",
       "  </tbody>\n",
       "</table>\n",
       "<p>5 rows × 146 columns</p>\n",
       "</div>"
      ],
      "text/plain": [
       "        id   x1  x2                                            x3  \\\n",
       "0  1700001  YES  NO  I7K7j9mvUurktDbybGa8nYojS5TrOrQqvAandHsdjv8=   \n",
       "1  1700002   NO  NO  cSuQaz0xx+UxAtskjMBN1xCeacDm/4oJYEIDFL3CMoU=   \n",
       "2  1700003   NO  NO  VduR3ZHc2+rs/i34uA1VtOPTyOogJacJNc3mBuRRjIU=   \n",
       "3  1700004   NO  NO  S7l8SI3WbSTbhCSCcNJBWCtNjh8fSqS3ZhPZ3X+EGGU=   \n",
       "4  1700005   NO  NO  YKBNeCS2s8QQz1xy7Aes8Ina4f27Q022R7ggwOX58l0=   \n",
       "\n",
       "                                             x4        x5        x6        x7  \\\n",
       "0  YGCdISifn4fLao/ASKdZFhGIq23oqzfSbUVb6px1pig=  0.653698  0.041684  0.940573   \n",
       "1  vOPAlFJxrZoxaQht2ylUA2U0jUyFGxJF7iy/SNua2+U=  1.294118  0.000000  1.000000   \n",
       "2  ZSznNzP7c1xuAbA4HWA+NnJ4UXhlkZckpXtvQW/EJPw=  0.457076  0.318488  0.360094   \n",
       "3  aZTF/lredyP4cukeN8bh6kpBjYmS1QFNpPOg2LVm3Lg=  1.085878  0.874811  0.939825   \n",
       "4  6E1RoTs+Er+giZsKw158lVBRFEjPAoSaWCcPwdXuk6k=  1.414798  0.000000  1.000000   \n",
       "\n",
       "         x8        x9    ...         x136  x137  x138  x139 x140  x141  x142  \\\n",
       "0  0.090851  0.873563    ...     0.000000  0.98  3306  4678   NO    NO   YES   \n",
       "1  0.000000  0.468855    ...    -0.666667  1.00  1188   918  YES    NO   YES   \n",
       "2  0.444477  0.354545    ...     0.000000  0.97  4400  3413  YES    NO   YES   \n",
       "3  1.054732  0.767586    ...     0.000000  0.87  4677  3307  YES    NO   YES   \n",
       "4  0.000000  0.348653    ...    -1.000000  1.00  1262   892   NO    NO    NO   \n",
       "\n",
       "   x143      x144      x145  \n",
       "0     3  0.168448  0.863581  \n",
       "1     1  0.694989  0.468855  \n",
       "2     0  0.326106  0.345455  \n",
       "3     1  0.750832  0.760316  \n",
       "4    10  0.580717  0.337559  \n",
       "\n",
       "[5 rows x 146 columns]"
      ]
     },
     "execution_count": 4,
     "metadata": {},
     "output_type": "execute_result"
    }
   ],
   "source": [
    "train_sample.head()"
   ]
  },
  {
   "cell_type": "code",
   "execution_count": 5,
   "metadata": {
    "collapsed": false
   },
   "outputs": [
    {
     "data": {
      "text/html": [
       "<div>\n",
       "<table border=\"1\" class=\"dataframe\">\n",
       "  <thead>\n",
       "    <tr style=\"text-align: right;\">\n",
       "      <th></th>\n",
       "      <th>id</th>\n",
       "      <th>y1</th>\n",
       "      <th>y2</th>\n",
       "      <th>y3</th>\n",
       "      <th>y4</th>\n",
       "      <th>y5</th>\n",
       "      <th>y6</th>\n",
       "      <th>y7</th>\n",
       "      <th>y8</th>\n",
       "      <th>y9</th>\n",
       "      <th>...</th>\n",
       "      <th>y24</th>\n",
       "      <th>y25</th>\n",
       "      <th>y26</th>\n",
       "      <th>y27</th>\n",
       "      <th>y28</th>\n",
       "      <th>y29</th>\n",
       "      <th>y30</th>\n",
       "      <th>y31</th>\n",
       "      <th>y32</th>\n",
       "      <th>y33</th>\n",
       "    </tr>\n",
       "  </thead>\n",
       "  <tbody>\n",
       "    <tr>\n",
       "      <th>0</th>\n",
       "      <td>1</td>\n",
       "      <td>0</td>\n",
       "      <td>0</td>\n",
       "      <td>0</td>\n",
       "      <td>0</td>\n",
       "      <td>0</td>\n",
       "      <td>0</td>\n",
       "      <td>0</td>\n",
       "      <td>0</td>\n",
       "      <td>0</td>\n",
       "      <td>...</td>\n",
       "      <td>0</td>\n",
       "      <td>0</td>\n",
       "      <td>0</td>\n",
       "      <td>0</td>\n",
       "      <td>0</td>\n",
       "      <td>0</td>\n",
       "      <td>0</td>\n",
       "      <td>0</td>\n",
       "      <td>0</td>\n",
       "      <td>1</td>\n",
       "    </tr>\n",
       "    <tr>\n",
       "      <th>1</th>\n",
       "      <td>2</td>\n",
       "      <td>0</td>\n",
       "      <td>0</td>\n",
       "      <td>0</td>\n",
       "      <td>0</td>\n",
       "      <td>0</td>\n",
       "      <td>0</td>\n",
       "      <td>0</td>\n",
       "      <td>0</td>\n",
       "      <td>0</td>\n",
       "      <td>...</td>\n",
       "      <td>0</td>\n",
       "      <td>0</td>\n",
       "      <td>0</td>\n",
       "      <td>0</td>\n",
       "      <td>0</td>\n",
       "      <td>0</td>\n",
       "      <td>0</td>\n",
       "      <td>0</td>\n",
       "      <td>1</td>\n",
       "      <td>0</td>\n",
       "    </tr>\n",
       "    <tr>\n",
       "      <th>2</th>\n",
       "      <td>3</td>\n",
       "      <td>0</td>\n",
       "      <td>0</td>\n",
       "      <td>1</td>\n",
       "      <td>0</td>\n",
       "      <td>0</td>\n",
       "      <td>0</td>\n",
       "      <td>0</td>\n",
       "      <td>0</td>\n",
       "      <td>0</td>\n",
       "      <td>...</td>\n",
       "      <td>0</td>\n",
       "      <td>0</td>\n",
       "      <td>0</td>\n",
       "      <td>0</td>\n",
       "      <td>0</td>\n",
       "      <td>0</td>\n",
       "      <td>0</td>\n",
       "      <td>0</td>\n",
       "      <td>0</td>\n",
       "      <td>0</td>\n",
       "    </tr>\n",
       "    <tr>\n",
       "      <th>3</th>\n",
       "      <td>4</td>\n",
       "      <td>0</td>\n",
       "      <td>0</td>\n",
       "      <td>0</td>\n",
       "      <td>0</td>\n",
       "      <td>0</td>\n",
       "      <td>0</td>\n",
       "      <td>0</td>\n",
       "      <td>0</td>\n",
       "      <td>0</td>\n",
       "      <td>...</td>\n",
       "      <td>0</td>\n",
       "      <td>0</td>\n",
       "      <td>0</td>\n",
       "      <td>0</td>\n",
       "      <td>0</td>\n",
       "      <td>0</td>\n",
       "      <td>0</td>\n",
       "      <td>0</td>\n",
       "      <td>0</td>\n",
       "      <td>1</td>\n",
       "    </tr>\n",
       "    <tr>\n",
       "      <th>4</th>\n",
       "      <td>5</td>\n",
       "      <td>0</td>\n",
       "      <td>0</td>\n",
       "      <td>0</td>\n",
       "      <td>0</td>\n",
       "      <td>0</td>\n",
       "      <td>0</td>\n",
       "      <td>0</td>\n",
       "      <td>0</td>\n",
       "      <td>0</td>\n",
       "      <td>...</td>\n",
       "      <td>0</td>\n",
       "      <td>0</td>\n",
       "      <td>0</td>\n",
       "      <td>0</td>\n",
       "      <td>0</td>\n",
       "      <td>0</td>\n",
       "      <td>0</td>\n",
       "      <td>0</td>\n",
       "      <td>0</td>\n",
       "      <td>1</td>\n",
       "    </tr>\n",
       "  </tbody>\n",
       "</table>\n",
       "<p>5 rows × 34 columns</p>\n",
       "</div>"
      ],
      "text/plain": [
       "   id  y1  y2  y3  y4  y5  y6  y7  y8  y9 ...   y24  y25  y26  y27  y28  y29  \\\n",
       "0   1   0   0   0   0   0   0   0   0   0 ...     0    0    0    0    0    0   \n",
       "1   2   0   0   0   0   0   0   0   0   0 ...     0    0    0    0    0    0   \n",
       "2   3   0   0   1   0   0   0   0   0   0 ...     0    0    0    0    0    0   \n",
       "3   4   0   0   0   0   0   0   0   0   0 ...     0    0    0    0    0    0   \n",
       "4   5   0   0   0   0   0   0   0   0   0 ...     0    0    0    0    0    0   \n",
       "\n",
       "   y30  y31  y32  y33  \n",
       "0    0    0    0    1  \n",
       "1    0    0    1    0  \n",
       "2    0    0    0    0  \n",
       "3    0    0    0    1  \n",
       "4    0    0    0    1  \n",
       "\n",
       "[5 rows x 34 columns]"
      ]
     },
     "execution_count": 5,
     "metadata": {},
     "output_type": "execute_result"
    }
   ],
   "source": [
    "labels.head()"
   ]
  },
  {
   "cell_type": "code",
   "execution_count": 6,
   "metadata": {
    "collapsed": false
   },
   "outputs": [
    {
     "data": {
      "text/plain": [
       "Index(['id', 'y1', 'y2', 'y3', 'y4', 'y5', 'y6', 'y7', 'y8', 'y9', 'y10',\n",
       "       'y11', 'y12', 'y13', 'y14', 'y15', 'y16', 'y17', 'y18', 'y19', 'y20',\n",
       "       'y21', 'y22', 'y23', 'y24', 'y25', 'y26', 'y27', 'y28', 'y29', 'y30',\n",
       "       'y31', 'y32', 'y33'],\n",
       "      dtype='object')"
      ]
     },
     "execution_count": 6,
     "metadata": {},
     "output_type": "execute_result"
    }
   ],
   "source": [
    "labels.columns"
   ]
  },
  {
   "cell_type": "code",
   "execution_count": 7,
   "metadata": {
    "collapsed": false
   },
   "outputs": [],
   "source": [
    "train_sample[['id']] = range(1, 1001)"
   ]
  },
  {
   "cell_type": "markdown",
   "metadata": {},
   "source": [
    "## Try to make something useful"
   ]
  },
  {
   "cell_type": "code",
   "execution_count": 8,
   "metadata": {
    "collapsed": false
   },
   "outputs": [],
   "source": [
    "train = pd.merge(train_sample, labels, on = 'id')"
   ]
  },
  {
   "cell_type": "code",
   "execution_count": 9,
   "metadata": {
    "collapsed": false
   },
   "outputs": [
    {
     "data": {
      "text/html": [
       "<div>\n",
       "<table border=\"1\" class=\"dataframe\">\n",
       "  <thead>\n",
       "    <tr style=\"text-align: right;\">\n",
       "      <th></th>\n",
       "      <th>id</th>\n",
       "      <th>x1</th>\n",
       "      <th>x2</th>\n",
       "      <th>x3</th>\n",
       "      <th>x4</th>\n",
       "      <th>x5</th>\n",
       "      <th>x6</th>\n",
       "      <th>x7</th>\n",
       "      <th>x8</th>\n",
       "      <th>x9</th>\n",
       "      <th>...</th>\n",
       "      <th>y24</th>\n",
       "      <th>y25</th>\n",
       "      <th>y26</th>\n",
       "      <th>y27</th>\n",
       "      <th>y28</th>\n",
       "      <th>y29</th>\n",
       "      <th>y30</th>\n",
       "      <th>y31</th>\n",
       "      <th>y32</th>\n",
       "      <th>y33</th>\n",
       "    </tr>\n",
       "  </thead>\n",
       "  <tbody>\n",
       "    <tr>\n",
       "      <th>0</th>\n",
       "      <td>1</td>\n",
       "      <td>YES</td>\n",
       "      <td>NO</td>\n",
       "      <td>I7K7j9mvUurktDbybGa8nYojS5TrOrQqvAandHsdjv8=</td>\n",
       "      <td>YGCdISifn4fLao/ASKdZFhGIq23oqzfSbUVb6px1pig=</td>\n",
       "      <td>0.653698</td>\n",
       "      <td>0.041684</td>\n",
       "      <td>0.940573</td>\n",
       "      <td>0.090851</td>\n",
       "      <td>0.873563</td>\n",
       "      <td>...</td>\n",
       "      <td>0</td>\n",
       "      <td>0</td>\n",
       "      <td>0</td>\n",
       "      <td>0</td>\n",
       "      <td>0</td>\n",
       "      <td>0</td>\n",
       "      <td>0</td>\n",
       "      <td>0</td>\n",
       "      <td>0</td>\n",
       "      <td>1</td>\n",
       "    </tr>\n",
       "    <tr>\n",
       "      <th>1</th>\n",
       "      <td>2</td>\n",
       "      <td>NO</td>\n",
       "      <td>NO</td>\n",
       "      <td>cSuQaz0xx+UxAtskjMBN1xCeacDm/4oJYEIDFL3CMoU=</td>\n",
       "      <td>vOPAlFJxrZoxaQht2ylUA2U0jUyFGxJF7iy/SNua2+U=</td>\n",
       "      <td>1.294118</td>\n",
       "      <td>0.000000</td>\n",
       "      <td>1.000000</td>\n",
       "      <td>0.000000</td>\n",
       "      <td>0.468855</td>\n",
       "      <td>...</td>\n",
       "      <td>0</td>\n",
       "      <td>0</td>\n",
       "      <td>0</td>\n",
       "      <td>0</td>\n",
       "      <td>0</td>\n",
       "      <td>0</td>\n",
       "      <td>0</td>\n",
       "      <td>0</td>\n",
       "      <td>1</td>\n",
       "      <td>0</td>\n",
       "    </tr>\n",
       "    <tr>\n",
       "      <th>2</th>\n",
       "      <td>3</td>\n",
       "      <td>NO</td>\n",
       "      <td>NO</td>\n",
       "      <td>VduR3ZHc2+rs/i34uA1VtOPTyOogJacJNc3mBuRRjIU=</td>\n",
       "      <td>ZSznNzP7c1xuAbA4HWA+NnJ4UXhlkZckpXtvQW/EJPw=</td>\n",
       "      <td>0.457076</td>\n",
       "      <td>0.318488</td>\n",
       "      <td>0.360094</td>\n",
       "      <td>0.444477</td>\n",
       "      <td>0.354545</td>\n",
       "      <td>...</td>\n",
       "      <td>0</td>\n",
       "      <td>0</td>\n",
       "      <td>0</td>\n",
       "      <td>0</td>\n",
       "      <td>0</td>\n",
       "      <td>0</td>\n",
       "      <td>0</td>\n",
       "      <td>0</td>\n",
       "      <td>0</td>\n",
       "      <td>0</td>\n",
       "    </tr>\n",
       "    <tr>\n",
       "      <th>3</th>\n",
       "      <td>4</td>\n",
       "      <td>NO</td>\n",
       "      <td>NO</td>\n",
       "      <td>S7l8SI3WbSTbhCSCcNJBWCtNjh8fSqS3ZhPZ3X+EGGU=</td>\n",
       "      <td>aZTF/lredyP4cukeN8bh6kpBjYmS1QFNpPOg2LVm3Lg=</td>\n",
       "      <td>1.085878</td>\n",
       "      <td>0.874811</td>\n",
       "      <td>0.939825</td>\n",
       "      <td>1.054732</td>\n",
       "      <td>0.767586</td>\n",
       "      <td>...</td>\n",
       "      <td>0</td>\n",
       "      <td>0</td>\n",
       "      <td>0</td>\n",
       "      <td>0</td>\n",
       "      <td>0</td>\n",
       "      <td>0</td>\n",
       "      <td>0</td>\n",
       "      <td>0</td>\n",
       "      <td>0</td>\n",
       "      <td>1</td>\n",
       "    </tr>\n",
       "    <tr>\n",
       "      <th>4</th>\n",
       "      <td>5</td>\n",
       "      <td>NO</td>\n",
       "      <td>NO</td>\n",
       "      <td>YKBNeCS2s8QQz1xy7Aes8Ina4f27Q022R7ggwOX58l0=</td>\n",
       "      <td>6E1RoTs+Er+giZsKw158lVBRFEjPAoSaWCcPwdXuk6k=</td>\n",
       "      <td>1.414798</td>\n",
       "      <td>0.000000</td>\n",
       "      <td>1.000000</td>\n",
       "      <td>0.000000</td>\n",
       "      <td>0.348653</td>\n",
       "      <td>...</td>\n",
       "      <td>0</td>\n",
       "      <td>0</td>\n",
       "      <td>0</td>\n",
       "      <td>0</td>\n",
       "      <td>0</td>\n",
       "      <td>0</td>\n",
       "      <td>0</td>\n",
       "      <td>0</td>\n",
       "      <td>0</td>\n",
       "      <td>1</td>\n",
       "    </tr>\n",
       "  </tbody>\n",
       "</table>\n",
       "<p>5 rows × 179 columns</p>\n",
       "</div>"
      ],
      "text/plain": [
       "   id   x1  x2                                            x3  \\\n",
       "0   1  YES  NO  I7K7j9mvUurktDbybGa8nYojS5TrOrQqvAandHsdjv8=   \n",
       "1   2   NO  NO  cSuQaz0xx+UxAtskjMBN1xCeacDm/4oJYEIDFL3CMoU=   \n",
       "2   3   NO  NO  VduR3ZHc2+rs/i34uA1VtOPTyOogJacJNc3mBuRRjIU=   \n",
       "3   4   NO  NO  S7l8SI3WbSTbhCSCcNJBWCtNjh8fSqS3ZhPZ3X+EGGU=   \n",
       "4   5   NO  NO  YKBNeCS2s8QQz1xy7Aes8Ina4f27Q022R7ggwOX58l0=   \n",
       "\n",
       "                                             x4        x5        x6        x7  \\\n",
       "0  YGCdISifn4fLao/ASKdZFhGIq23oqzfSbUVb6px1pig=  0.653698  0.041684  0.940573   \n",
       "1  vOPAlFJxrZoxaQht2ylUA2U0jUyFGxJF7iy/SNua2+U=  1.294118  0.000000  1.000000   \n",
       "2  ZSznNzP7c1xuAbA4HWA+NnJ4UXhlkZckpXtvQW/EJPw=  0.457076  0.318488  0.360094   \n",
       "3  aZTF/lredyP4cukeN8bh6kpBjYmS1QFNpPOg2LVm3Lg=  1.085878  0.874811  0.939825   \n",
       "4  6E1RoTs+Er+giZsKw158lVBRFEjPAoSaWCcPwdXuk6k=  1.414798  0.000000  1.000000   \n",
       "\n",
       "         x8        x9 ...  y24 y25 y26 y27 y28  y29  y30  y31  y32  y33  \n",
       "0  0.090851  0.873563 ...    0   0   0   0   0    0    0    0    0    1  \n",
       "1  0.000000  0.468855 ...    0   0   0   0   0    0    0    0    1    0  \n",
       "2  0.444477  0.354545 ...    0   0   0   0   0    0    0    0    0    0  \n",
       "3  1.054732  0.767586 ...    0   0   0   0   0    0    0    0    0    1  \n",
       "4  0.000000  0.348653 ...    0   0   0   0   0    0    0    0    0    1  \n",
       "\n",
       "[5 rows x 179 columns]"
      ]
     },
     "execution_count": 9,
     "metadata": {},
     "output_type": "execute_result"
    }
   ],
   "source": [
    "train.head()"
   ]
  },
  {
   "cell_type": "code",
   "execution_count": 10,
   "metadata": {
    "collapsed": false
   },
   "outputs": [
    {
     "data": {
      "text/plain": [
       "Counter({'i': 1, 'x': 145, 'y': 33})"
      ]
     },
     "execution_count": 10,
     "metadata": {},
     "output_type": "execute_result"
    }
   ],
   "source": [
    "from collections import Counter\n",
    "Counter([name[0] for name in train.columns])"
   ]
  },
  {
   "cell_type": "code",
   "execution_count": 11,
   "metadata": {
    "collapsed": false
   },
   "outputs": [
    {
     "data": {
      "text/plain": [
       "Index(['id', 'x1', 'x2', 'x3', 'x4', 'x5', 'x6', 'x7', 'x8', 'x9',\n",
       "       ...\n",
       "       'y24', 'y25', 'y26', 'y27', 'y28', 'y29', 'y30', 'y31', 'y32', 'y33'],\n",
       "      dtype='object', length=179)"
      ]
     },
     "execution_count": 11,
     "metadata": {},
     "output_type": "execute_result"
    }
   ],
   "source": [
    "train.columns"
   ]
  },
  {
   "cell_type": "markdown",
   "metadata": {},
   "source": [
    "### Categorical values encoding"
   ]
  },
  {
   "cell_type": "code",
   "execution_count": 12,
   "metadata": {
    "collapsed": false
   },
   "outputs": [],
   "source": [
    "train.replace('YES', 1, inplace = True)\n",
    "train.replace('NO', 0, inplace = True)\n",
    "train.replace('nan', np.NaN, inplace = True)"
   ]
  },
  {
   "cell_type": "code",
   "execution_count": 13,
   "metadata": {
    "collapsed": false
   },
   "outputs": [
    {
     "data": {
      "text/html": [
       "<div>\n",
       "<table border=\"1\" class=\"dataframe\">\n",
       "  <thead>\n",
       "    <tr style=\"text-align: right;\">\n",
       "      <th></th>\n",
       "      <th>id</th>\n",
       "      <th>x1</th>\n",
       "      <th>x2</th>\n",
       "      <th>x3</th>\n",
       "      <th>x4</th>\n",
       "      <th>x5</th>\n",
       "      <th>x6</th>\n",
       "      <th>x7</th>\n",
       "      <th>x8</th>\n",
       "      <th>x9</th>\n",
       "      <th>...</th>\n",
       "      <th>y24</th>\n",
       "      <th>y25</th>\n",
       "      <th>y26</th>\n",
       "      <th>y27</th>\n",
       "      <th>y28</th>\n",
       "      <th>y29</th>\n",
       "      <th>y30</th>\n",
       "      <th>y31</th>\n",
       "      <th>y32</th>\n",
       "      <th>y33</th>\n",
       "    </tr>\n",
       "  </thead>\n",
       "  <tbody>\n",
       "    <tr>\n",
       "      <th>0</th>\n",
       "      <td>1</td>\n",
       "      <td>1.0</td>\n",
       "      <td>0.0</td>\n",
       "      <td>I7K7j9mvUurktDbybGa8nYojS5TrOrQqvAandHsdjv8=</td>\n",
       "      <td>YGCdISifn4fLao/ASKdZFhGIq23oqzfSbUVb6px1pig=</td>\n",
       "      <td>0.653698</td>\n",
       "      <td>0.041684</td>\n",
       "      <td>0.940573</td>\n",
       "      <td>0.090851</td>\n",
       "      <td>0.873563</td>\n",
       "      <td>...</td>\n",
       "      <td>0</td>\n",
       "      <td>0</td>\n",
       "      <td>0</td>\n",
       "      <td>0</td>\n",
       "      <td>0</td>\n",
       "      <td>0</td>\n",
       "      <td>0</td>\n",
       "      <td>0</td>\n",
       "      <td>0</td>\n",
       "      <td>1</td>\n",
       "    </tr>\n",
       "    <tr>\n",
       "      <th>1</th>\n",
       "      <td>2</td>\n",
       "      <td>0.0</td>\n",
       "      <td>0.0</td>\n",
       "      <td>cSuQaz0xx+UxAtskjMBN1xCeacDm/4oJYEIDFL3CMoU=</td>\n",
       "      <td>vOPAlFJxrZoxaQht2ylUA2U0jUyFGxJF7iy/SNua2+U=</td>\n",
       "      <td>1.294118</td>\n",
       "      <td>0.000000</td>\n",
       "      <td>1.000000</td>\n",
       "      <td>0.000000</td>\n",
       "      <td>0.468855</td>\n",
       "      <td>...</td>\n",
       "      <td>0</td>\n",
       "      <td>0</td>\n",
       "      <td>0</td>\n",
       "      <td>0</td>\n",
       "      <td>0</td>\n",
       "      <td>0</td>\n",
       "      <td>0</td>\n",
       "      <td>0</td>\n",
       "      <td>1</td>\n",
       "      <td>0</td>\n",
       "    </tr>\n",
       "    <tr>\n",
       "      <th>2</th>\n",
       "      <td>3</td>\n",
       "      <td>0.0</td>\n",
       "      <td>0.0</td>\n",
       "      <td>VduR3ZHc2+rs/i34uA1VtOPTyOogJacJNc3mBuRRjIU=</td>\n",
       "      <td>ZSznNzP7c1xuAbA4HWA+NnJ4UXhlkZckpXtvQW/EJPw=</td>\n",
       "      <td>0.457076</td>\n",
       "      <td>0.318488</td>\n",
       "      <td>0.360094</td>\n",
       "      <td>0.444477</td>\n",
       "      <td>0.354545</td>\n",
       "      <td>...</td>\n",
       "      <td>0</td>\n",
       "      <td>0</td>\n",
       "      <td>0</td>\n",
       "      <td>0</td>\n",
       "      <td>0</td>\n",
       "      <td>0</td>\n",
       "      <td>0</td>\n",
       "      <td>0</td>\n",
       "      <td>0</td>\n",
       "      <td>0</td>\n",
       "    </tr>\n",
       "    <tr>\n",
       "      <th>3</th>\n",
       "      <td>4</td>\n",
       "      <td>0.0</td>\n",
       "      <td>0.0</td>\n",
       "      <td>S7l8SI3WbSTbhCSCcNJBWCtNjh8fSqS3ZhPZ3X+EGGU=</td>\n",
       "      <td>aZTF/lredyP4cukeN8bh6kpBjYmS1QFNpPOg2LVm3Lg=</td>\n",
       "      <td>1.085878</td>\n",
       "      <td>0.874811</td>\n",
       "      <td>0.939825</td>\n",
       "      <td>1.054732</td>\n",
       "      <td>0.767586</td>\n",
       "      <td>...</td>\n",
       "      <td>0</td>\n",
       "      <td>0</td>\n",
       "      <td>0</td>\n",
       "      <td>0</td>\n",
       "      <td>0</td>\n",
       "      <td>0</td>\n",
       "      <td>0</td>\n",
       "      <td>0</td>\n",
       "      <td>0</td>\n",
       "      <td>1</td>\n",
       "    </tr>\n",
       "    <tr>\n",
       "      <th>4</th>\n",
       "      <td>5</td>\n",
       "      <td>0.0</td>\n",
       "      <td>0.0</td>\n",
       "      <td>YKBNeCS2s8QQz1xy7Aes8Ina4f27Q022R7ggwOX58l0=</td>\n",
       "      <td>6E1RoTs+Er+giZsKw158lVBRFEjPAoSaWCcPwdXuk6k=</td>\n",
       "      <td>1.414798</td>\n",
       "      <td>0.000000</td>\n",
       "      <td>1.000000</td>\n",
       "      <td>0.000000</td>\n",
       "      <td>0.348653</td>\n",
       "      <td>...</td>\n",
       "      <td>0</td>\n",
       "      <td>0</td>\n",
       "      <td>0</td>\n",
       "      <td>0</td>\n",
       "      <td>0</td>\n",
       "      <td>0</td>\n",
       "      <td>0</td>\n",
       "      <td>0</td>\n",
       "      <td>0</td>\n",
       "      <td>1</td>\n",
       "    </tr>\n",
       "  </tbody>\n",
       "</table>\n",
       "<p>5 rows × 179 columns</p>\n",
       "</div>"
      ],
      "text/plain": [
       "   id   x1   x2                                            x3  \\\n",
       "0   1  1.0  0.0  I7K7j9mvUurktDbybGa8nYojS5TrOrQqvAandHsdjv8=   \n",
       "1   2  0.0  0.0  cSuQaz0xx+UxAtskjMBN1xCeacDm/4oJYEIDFL3CMoU=   \n",
       "2   3  0.0  0.0  VduR3ZHc2+rs/i34uA1VtOPTyOogJacJNc3mBuRRjIU=   \n",
       "3   4  0.0  0.0  S7l8SI3WbSTbhCSCcNJBWCtNjh8fSqS3ZhPZ3X+EGGU=   \n",
       "4   5  0.0  0.0  YKBNeCS2s8QQz1xy7Aes8Ina4f27Q022R7ggwOX58l0=   \n",
       "\n",
       "                                             x4        x5        x6        x7  \\\n",
       "0  YGCdISifn4fLao/ASKdZFhGIq23oqzfSbUVb6px1pig=  0.653698  0.041684  0.940573   \n",
       "1  vOPAlFJxrZoxaQht2ylUA2U0jUyFGxJF7iy/SNua2+U=  1.294118  0.000000  1.000000   \n",
       "2  ZSznNzP7c1xuAbA4HWA+NnJ4UXhlkZckpXtvQW/EJPw=  0.457076  0.318488  0.360094   \n",
       "3  aZTF/lredyP4cukeN8bh6kpBjYmS1QFNpPOg2LVm3Lg=  1.085878  0.874811  0.939825   \n",
       "4  6E1RoTs+Er+giZsKw158lVBRFEjPAoSaWCcPwdXuk6k=  1.414798  0.000000  1.000000   \n",
       "\n",
       "         x8        x9 ...   y24  y25  y26  y27  y28  y29  y30  y31  y32  y33  \n",
       "0  0.090851  0.873563 ...     0    0    0    0    0    0    0    0    0    1  \n",
       "1  0.000000  0.468855 ...     0    0    0    0    0    0    0    0    1    0  \n",
       "2  0.444477  0.354545 ...     0    0    0    0    0    0    0    0    0    0  \n",
       "3  1.054732  0.767586 ...     0    0    0    0    0    0    0    0    0    1  \n",
       "4  0.000000  0.348653 ...     0    0    0    0    0    0    0    0    0    1  \n",
       "\n",
       "[5 rows x 179 columns]"
      ]
     },
     "execution_count": 13,
     "metadata": {},
     "output_type": "execute_result"
    }
   ],
   "source": [
    "train.head()"
   ]
  },
  {
   "cell_type": "code",
   "execution_count": 26,
   "metadata": {
    "collapsed": false,
    "scrolled": false
   },
   "outputs": [],
   "source": [
    "names_categorical = []\n",
    "X_numerical = []\n",
    "\n",
    "for name in train.columns:\n",
    "    if name.startswith('x'):\n",
    "        # 找出每个列中最多的数据类型，因为每一列中可能会有str或数值类型的值\n",
    "        column_type, _ = max(Counter(map(lambda x: str(type(x)), train[name])).items(), key = lambda x: x[1])\n",
    "        if column_type == str(str):\n",
    "            train[name] = train[name].apply(str)\n",
    "            names_categorical.append(name)\n",
    "        else:\n",
    "            X_numerical.append(train[name].fillna(-999))"
   ]
  },
  {
   "cell_type": "code",
   "execution_count": 39,
   "metadata": {
    "collapsed": false
   },
   "outputs": [],
   "source": [
    "vec = DictVectorizer()\n",
    "X_sparse = vec.fit_transform(train[names_categorical].T.to_dict().values())"
   ]
  },
  {
   "cell_type": "code",
   "execution_count": 47,
   "metadata": {
    "collapsed": false
   },
   "outputs": [],
   "source": [
    "X_numerical = np.column_stack(X_numerical)\n",
    "X_numerical = np.nan_to_num(X_numerical)"
   ]
  },
  {
   "cell_type": "code",
   "execution_count": 50,
   "metadata": {
    "collapsed": false
   },
   "outputs": [
    {
     "name": "stdout",
     "output_type": "stream",
     "text": [
      "(1000, 135)\n",
      "(1000, 5305)\n"
     ]
    }
   ],
   "source": [
    "print(X_numerical.shape)\n",
    "print(X_sparse.shape)"
   ]
  },
  {
   "cell_type": "code",
   "execution_count": 56,
   "metadata": {
    "collapsed": false
   },
   "outputs": [],
   "source": [
    "from sklearn.metrics import roc_auc_score, f1_score, log_loss, make_scorer\n",
    "from sklearn.svm import LinearSVC\n",
    "from sklearn.cross_validation import cross_val_score, train_test_split\n",
    "from sklearn.ensemble import RandomForestClassifier"
   ]
  },
  {
   "cell_type": "code",
   "execution_count": 57,
   "metadata": {
    "collapsed": false
   },
   "outputs": [],
   "source": [
    "y_columns = [name for name in train.columns if name.startswith('y')]"
   ]
  },
  {
   "cell_type": "code",
   "execution_count": 60,
   "metadata": {
    "collapsed": false
   },
   "outputs": [],
   "source": [
    "X_numerical_base, X_numerical_meta, X_sparse_base, X_sparse_meta, y_base, y_meta = train_test_split(\n",
    "    X_numerical, \n",
    "    X_sparse, \n",
    "    train[y_columns].values,\n",
    "    test_size = 0.5\n",
    ")"
   ]
  },
  {
   "cell_type": "code",
   "execution_count": 74,
   "metadata": {
    "collapsed": false
   },
   "outputs": [
    {
     "name": "stdout",
     "output_type": "stream",
     "text": [
      "start training\n",
      "end training\n"
     ]
    }
   ],
   "source": [
    "X_meta = []\n",
    "print('start training')\n",
    "for i in range(y_base.shape[1]):\n",
    "    y = y_base[:, i]\n",
    "    if len(np.unique(y)) == 2:\n",
    "        rf = RandomForestClassifier(n_estimators = 10, n_jobs = -1)\n",
    "        rf.fit(X_numerical_base, y)\n",
    "        X_meta.append(rf.predict_proba(X_numerical_meta))\n",
    "        \n",
    "        svm = LinearSVC()\n",
    "        svm.fit(X_sparse_base, y)\n",
    "        X_meta.append(svm.decision_function(X_sparse_meta))\n",
    "print('end training')"
   ]
  },
  {
   "cell_type": "code",
   "execution_count": 83,
   "metadata": {
    "collapsed": false
   },
   "outputs": [
    {
     "name": "stdout",
     "output_type": "stream",
     "text": [
      "(500, 75)\n"
     ]
    }
   ],
   "source": [
    "X_meta = np.column_stack(X_meta)\n",
    "print(X_meta.shape)"
   ]
  }
 ],
 "metadata": {
  "kernelspec": {
   "display_name": "Python 3",
   "language": "python",
   "name": "python3"
  },
  "language_info": {
   "codemirror_mode": {
    "name": "ipython",
    "version": 3
   },
   "file_extension": ".py",
   "mimetype": "text/x-python",
   "name": "python",
   "nbconvert_exporter": "python",
   "pygments_lexer": "ipython3",
   "version": "3.5.2"
  }
 },
 "nbformat": 4,
 "nbformat_minor": 0
}
